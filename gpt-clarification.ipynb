{
 "cells": [
  {
   "cell_type": "code",
   "execution_count": 1,
   "metadata": {},
   "outputs": [],
   "source": [
    "# This notebook tests the new function calling feature of GPT-3.5-turbo.\n",
    "\n",
    "# Set up chatgpt api\n",
    "import openai\n",
    "import json\n",
    "import os"
   ]
  },
  {
   "cell_type": "code",
   "execution_count": 2,
   "metadata": {},
   "outputs": [],
   "source": [
    "GPT_KEY = os.environ['OPENAI_API_KEY']\n",
    "GPT_MODEL_OLD = \"gpt-3.5-turbo\"\n",
    "GPT_MODEL = \"gpt-3.5-turbo-0613\"\n",
    "GPT4_MODEL = \"gpt-4-0613\"\n"
   ]
  },
  {
   "cell_type": "code",
   "execution_count": 3,
   "metadata": {},
   "outputs": [],
   "source": [
    "import sqlite3\n",
    "from pprint import pprint"
   ]
  },
  {
   "cell_type": "code",
   "execution_count": 124,
   "metadata": {},
   "outputs": [],
   "source": [
    "# We can choose to expose only actual results and hide the function calls\n",
    "# Also, we can add some color coding to the output\n",
    "def pprint_convo(convo, hide_internal=True):\n",
    "    CYAN, GREEN, RED, BOLD = \"\\033[96m\", \"\\033[92m\", \"\\033[31m\", \"\\033[1m\"\n",
    "    col_role = {\"user\":CYAN, \"assistant\":GREEN, \"system\":RED, \"function\":RED}\n",
    "    begin_role = {\"user\":\"\\n\", \"assistant\":\"\", \"system\":\"\", \"function\":\"\"}\n",
    "    \n",
    "    for mes in convo:\n",
    "        role = mes[\"role\"]\n",
    "        cont = mes[\"content\"]\n",
    "        if role not in [\"user\", \"assistant\"] or mes.get(\"function_call\"):\n",
    "            if hide_internal:\n",
    "                continue\n",
    "        if cont is not None:\n",
    "            print(\"{fm_role}{role}:\\033[0m {fm_content}{cont}\\033[0m\".format(\n",
    "                fm_role = begin_role[role] + col_role[role] + BOLD,\n",
    "                role=role,\n",
    "                fm_content = col_role[role],\n",
    "                cont=cont\n",
    "            ))\n",
    "        else:\n",
    "            fc_content = json.loads(mes.get(\"function_call\")[\"arguments\"])\n",
    "            print(\"\"\"{fm_role}{role} function:\\033[0m {fm_content}\"\"\".format(\n",
    "                fm_role = begin_role[\"function\"] + col_role[\"function\"] + BOLD,\n",
    "                role=role,\n",
    "                fm_content = col_role[\"function\"]\n",
    "            ))\n",
    "            pprint(fc_content)\n",
    "            print(\"\\033[0m\")\n"
   ]
  },
  {
   "attachments": {},
   "cell_type": "markdown",
   "metadata": {},
   "source": [
    "## Clarification questions"
   ]
  },
  {
   "cell_type": "code",
   "execution_count": 6,
   "metadata": {},
   "outputs": [],
   "source": [
    "# https://github.com/MeiqiGuo/AKBC2021-Abg-CoQA/tree/main/abg-coqa\n",
    "with open(\"./data/abg-coqa/coqa_abg_test.json\") as f:\n",
    "    data_coqa = json.load(f)['data']\n"
   ]
  },
  {
   "cell_type": "code",
   "execution_count": 7,
   "metadata": {},
   "outputs": [
    {
     "data": {
      "text/plain": [
       "1055"
      ]
     },
     "execution_count": 7,
     "metadata": {},
     "output_type": "execute_result"
    }
   ],
   "source": [
    "len(data_coqa)"
   ]
  },
  {
   "cell_type": "code",
   "execution_count": 8,
   "metadata": {},
   "outputs": [
    {
     "data": {
      "text/plain": [
       "dict_keys(['id', 'story', 'target_turn', 'history_turns', 'ambiguity', 'clarification_turn', 'source', 'clarification_turn_2'])"
      ]
     },
     "execution_count": 8,
     "metadata": {},
     "output_type": "execute_result"
    }
   ],
   "source": [
    "story2 = data_coqa[2]\n",
    "story2.keys()"
   ]
  },
  {
   "cell_type": "code",
   "execution_count": 9,
   "metadata": {},
   "outputs": [
    {
     "name": "stdout",
     "output_type": "stream",
     "text": [
      "('Angie went to the library with her mother. First she had to turn in the '\n",
      " 'books she was returning at the return desk. They said hello to the man '\n",
      " 'there. He took their books. Then they went into the adult reading room. '\n",
      " 'Angie sat in a brown chair at the table. She made a drawing of her mother. '\n",
      " 'Her mother found a large red book. Then they went to the Mystery section. '\n",
      " 'Angie sat in a blue chair. She drew a picture of her brother. Her mother '\n",
      " 'found the book. It was a green book. Finally it was time to go to the '\n",
      " \"children's room. It was Story Hour. Miss Hudson was there to read to all the \"\n",
      " 'children. She read a book about friendship. After the story Angie sat in the '\n",
      " 'red chair and began drawing. They were drawing pictures of friends. Angie '\n",
      " 'drew a picture of her best friend Lilly. Miss Hudson hung the pictures on '\n",
      " 'the wall. Then Angie and her mother picked out 8 books to read at home. They '\n",
      " 'checked the books out and went home.')\n"
     ]
    }
   ],
   "source": [
    "pprint(story2['story'])"
   ]
  },
  {
   "cell_type": "code",
   "execution_count": 10,
   "metadata": {},
   "outputs": [
    {
     "data": {
      "text/plain": [
       "[{'turn_id': 3,\n",
       "  'question': 'what did she draw?',\n",
       "  'answer': 'her mother',\n",
       "  'rationale': '. She made a drawing of her mother. '},\n",
       " {'turn_id': 4,\n",
       "  'question': 'what did her mother find?',\n",
       "  'answer': 'the book.\\\\',\n",
       "  'rationale': ' Her mother found the book.'}]"
      ]
     },
     "execution_count": 10,
     "metadata": {},
     "output_type": "execute_result"
    }
   ],
   "source": [
    "story2['history_turns']"
   ]
  },
  {
   "cell_type": "code",
   "execution_count": 11,
   "metadata": {},
   "outputs": [
    {
     "data": {
      "text/plain": [
       "{'turn_id': 5,\n",
       " 'question': 'what color was it?',\n",
       " 'answer': 'green',\n",
       " 'rationale': ' It was a green book.',\n",
       " 'span_start': 452,\n",
       " 'span_end': 473}"
      ]
     },
     "execution_count": 11,
     "metadata": {},
     "output_type": "execute_result"
    }
   ],
   "source": [
    "story2['target_turn']"
   ]
  },
  {
   "cell_type": "code",
   "execution_count": 12,
   "metadata": {},
   "outputs": [
    {
     "data": {
      "text/plain": [
       "{'question': 'Do you mean the first book?',\n",
       " 'answers': [{'clr_ans': 'Yes',\n",
       "   'org_ans': 'red',\n",
       "   'org_ans_2': 'red',\n",
       "   'org_ans_3': 'red'},\n",
       "  {'clr_ans': 'No, I mean the second book.',\n",
       "   'org_ans': 'green',\n",
       "   'org_ans_2': 'green',\n",
       "   'org_ans_3': 'green'}]}"
      ]
     },
     "execution_count": 12,
     "metadata": {},
     "output_type": "execute_result"
    }
   ],
   "source": [
    "story2['clarification_turn']"
   ]
  },
  {
   "cell_type": "code",
   "execution_count": 13,
   "metadata": {},
   "outputs": [
    {
     "data": {
      "text/plain": [
       "{'question': 'Do you mean the book?',\n",
       " 'answers': [{'clr_ans': 'Yes', 'org_ans': 'red'},\n",
       "  {'clr_ans': 'No, I mean the drawing of her mother.', 'org_ans': 'Unknown'}]}"
      ]
     },
     "execution_count": 13,
     "metadata": {},
     "output_type": "execute_result"
    }
   ],
   "source": [
    "story2['clarification_turn_2']"
   ]
  },
  {
   "attachments": {},
   "cell_type": "markdown",
   "metadata": {},
   "source": [
    "### Input-Output"
   ]
  },
  {
   "cell_type": "code",
   "execution_count": 75,
   "metadata": {},
   "outputs": [],
   "source": [
    "def cq_generate_convo_io(convo, max_internal_turns=10, gpt_model=GPT_MODEL):\n",
    "    i = 0\n",
    "    while ((i <= max_internal_turns) and not (\n",
    "        convo[-1][\"role\"] == \"assistant\" and not convo[-1].get(\"function_call\")\n",
    "        )):\n",
    "        # Get gpt response\n",
    "        gpt_response = openai.ChatCompletion.create(\n",
    "            model=gpt_model,\n",
    "            messages=convo,\n",
    "        )\n",
    "        # Extract the assistant's message and append to the conversation\n",
    "        assistant_message = gpt_response[\"choices\"][0][\"message\"]\n",
    "        convo.append(assistant_message)\n",
    "        i += 1\n",
    "    return convo\n"
   ]
  },
  {
   "cell_type": "code",
   "execution_count": 83,
   "metadata": {},
   "outputs": [
    {
     "name": "stdout",
     "output_type": "stream",
     "text": [
      "\u001b[31m\u001b[1msystem:\u001b[0m \u001b[31mAnswer user questions by \n",
      "    referring to the story. The story: \n",
      "Angie went to the library with her mother. First she had to turn in the books she was returning at the return desk. They said hello to the man there. He took their books. Then they went into the adult reading room. Angie sat in a brown chair at the table. She made a drawing of her mother. Her mother found a large red book. Then they went to the Mystery section. Angie sat in a blue chair. She drew a picture of her brother. Her mother found the book. It was a green book. Finally it was time to go to the children's room. It was Story Hour. Miss Hudson was there to read to all the children. She read a book about friendship. After the story Angie sat in the red chair and began drawing. They were drawing pictures of friends. Angie drew a picture of her best friend Lilly. Miss Hudson hung the pictures on the wall. Then Angie and her mother picked out 8 books to read at home. They checked the books out and went home.\u001b[0m\n",
      "\n",
      "\u001b[96m\u001b[1muser:\u001b[0m \u001b[96mwhat did she draw?\u001b[0m\n",
      "\u001b[92m\u001b[1massistant:\u001b[0m \u001b[92mher mother\u001b[0m\n",
      "\n",
      "\u001b[96m\u001b[1muser:\u001b[0m \u001b[96mwhat did her mother find?\u001b[0m\n",
      "\u001b[92m\u001b[1massistant:\u001b[0m \u001b[92mthe book.\\\u001b[0m\n",
      "\n",
      "\u001b[96m\u001b[1muser:\u001b[0m \u001b[96mwhat color was it?\u001b[0m\n"
     ]
    }
   ],
   "source": [
    "\n",
    "convo = []\n",
    "convo.append({\"role\": \"system\", \"content\": f\"\"\"Answer user questions by \n",
    "    referring to the story. The story: \\n{story2['story']}\"\"\"})\n",
    "# convo.append({\"role\":\"system\", \"content\":\"The story:\\n\" + story2['story']})\n",
    "# convo.append({\"role\": \"user\", \"content\": \"Hi, how many apples were sold?\"})\n",
    "for turn in story2[\"history_turns\"]:\n",
    "    convo.append({\"role\":\"user\", \"content\": turn[\"question\"]})\n",
    "    convo.append({\"role\":\"assistant\", \"content\": turn[\"answer\"]})\n",
    "convo.append({\"role\":\"user\", \"content\": story2[\"target_turn\"][\"question\"]})\n",
    "pprint_convo(convo=convo, hide_internal=False)"
   ]
  },
  {
   "cell_type": "code",
   "execution_count": 84,
   "metadata": {},
   "outputs": [
    {
     "name": "stdout",
     "output_type": "stream",
     "text": [
      "\u001b[31m\u001b[1msystem:\u001b[0m \u001b[31mAnswer user questions by \n",
      "    referring to the story. The story: \n",
      "Angie went to the library with her mother. First she had to turn in the books she was returning at the return desk. They said hello to the man there. He took their books. Then they went into the adult reading room. Angie sat in a brown chair at the table. She made a drawing of her mother. Her mother found a large red book. Then they went to the Mystery section. Angie sat in a blue chair. She drew a picture of her brother. Her mother found the book. It was a green book. Finally it was time to go to the children's room. It was Story Hour. Miss Hudson was there to read to all the children. She read a book about friendship. After the story Angie sat in the red chair and began drawing. They were drawing pictures of friends. Angie drew a picture of her best friend Lilly. Miss Hudson hung the pictures on the wall. Then Angie and her mother picked out 8 books to read at home. They checked the books out and went home.\u001b[0m\n",
      "\n",
      "\u001b[96m\u001b[1muser:\u001b[0m \u001b[96mwhat did she draw?\u001b[0m\n",
      "\u001b[92m\u001b[1massistant:\u001b[0m \u001b[92mher mother\u001b[0m\n",
      "\n",
      "\u001b[96m\u001b[1muser:\u001b[0m \u001b[96mwhat did her mother find?\u001b[0m\n",
      "\u001b[92m\u001b[1massistant:\u001b[0m \u001b[92mthe book.\\\u001b[0m\n",
      "\n",
      "\u001b[96m\u001b[1muser:\u001b[0m \u001b[96mwhat color was it?\u001b[0m\n",
      "\u001b[92m\u001b[1massistant:\u001b[0m \u001b[92mThe book her mother found was green.\u001b[0m\n"
     ]
    }
   ],
   "source": [
    "cq_generate_convo_io(convo=convo, gpt_model=GPT_MODEL)\n",
    "pprint_convo(convo=convo, hide_internal=False)"
   ]
  },
  {
   "attachments": {},
   "cell_type": "markdown",
   "metadata": {},
   "source": [
    "### Proactive CoT"
   ]
  },
  {
   "cell_type": "code",
   "execution_count": 111,
   "metadata": {},
   "outputs": [],
   "source": [
    "desc__clarify = {\n",
    "    \"name\": \"clarify\",\n",
    "    \"description\": \"\"\"Given the task background and the conversation \n",
    "                history, first analyze whether the question at the current turn\n",
    "                is ambiguous to answer, then select appropriate actions to \n",
    "                generate the response\"\"\",\n",
    "    \"parameters\":{\n",
    "        \"type\": \"object\",\n",
    "        \"properties\": {\n",
    "            \"analysis\":{\n",
    "                \"type\": \"string\",\n",
    "                \"description\": \"\"\"Analysis if the question at the current turn\n",
    "                is ambiguous to answer, the result of this analysis should be\n",
    "                the rationale for the action.\"\"\"\n",
    "            },\n",
    "            \"action\":{\n",
    "                \"type\": \"string\",\n",
    "                \"description\": \"\"\"Appropriate action to take based on the analysis\"\"\",\n",
    "                \"enum\": [\"Direct answer\", \"Ask a Clarification Question\"]\n",
    "            },\n",
    "            \"clarification_question\":{\n",
    "                \"type\": \"string\",\n",
    "                \"description\": \"\"\"Clarification to ask the user if there was \n",
    "                ambiguity, it should be short and concise\"\"\"\n",
    "            }\n",
    "        },\n",
    "        \"required\": [\"analysis\", \"action\"],\n",
    "    }\n",
    "}"
   ]
  },
  {
   "cell_type": "code",
   "execution_count": 132,
   "metadata": {},
   "outputs": [],
   "source": [
    "def cq_generate_convo_cot(\n",
    "        convo, max_internal_turns=10, gpt_model=GPT_MODEL, \n",
    "        force_fc=True):\n",
    "    i = 0\n",
    "    while ((i <= max_internal_turns) and not (\n",
    "        convo[-1][\"role\"] == \"assistant\" and not convo[-1].get(\"function_call\")\n",
    "        )):\n",
    "        if convo[-1].get(\"role\") == \"user\" and force_fc:\n",
    "            fc = {\"name\": \"clarify\"}\n",
    "        else:\n",
    "            fc = \"auto\"\n",
    "        # Get gpt response\n",
    "        gpt_response = openai.ChatCompletion.create(\n",
    "            model=gpt_model,\n",
    "            messages=convo,\n",
    "            functions=[desc__clarify],\n",
    "            function_call=fc,\n",
    "        )\n",
    "        # Extract the assistant's message and append to the conversation\n",
    "        assistant_message = gpt_response[\"choices\"][0][\"message\"]\n",
    "        convo.append(assistant_message)\n",
    "        i += 1\n",
    "    return convo\n"
   ]
  },
  {
   "cell_type": "code",
   "execution_count": 133,
   "metadata": {},
   "outputs": [
    {
     "name": "stdout",
     "output_type": "stream",
     "text": [
      "\u001b[31m\u001b[1msystem:\u001b[0m \u001b[31mAnswer user questions by \n",
      "    referring to the story. The story: \n",
      "Angie went to the library with her mother. First she had to turn in the books she was returning at the return desk. They said hello to the man there. He took their books. Then they went into the adult reading room. Angie sat in a brown chair at the table. She made a drawing of her mother. Her mother found a large red book. Then they went to the Mystery section. Angie sat in a blue chair. She drew a picture of her brother. Her mother found the book. It was a green book. Finally it was time to go to the children's room. It was Story Hour. Miss Hudson was there to read to all the children. She read a book about friendship. After the story Angie sat in the red chair and began drawing. They were drawing pictures of friends. Angie drew a picture of her best friend Lilly. Miss Hudson hung the pictures on the wall. Then Angie and her mother picked out 8 books to read at home. They checked the books out and went home.\u001b[0m\n",
      "\n",
      "\u001b[96m\u001b[1muser:\u001b[0m \u001b[96mwhat did she draw?\u001b[0m\n",
      "\u001b[92m\u001b[1massistant:\u001b[0m \u001b[92mher mother\u001b[0m\n",
      "\n",
      "\u001b[96m\u001b[1muser:\u001b[0m \u001b[96mwhat did her mother find?\u001b[0m\n",
      "\u001b[92m\u001b[1massistant:\u001b[0m \u001b[92mthe book.\\\u001b[0m\n",
      "\n",
      "\u001b[96m\u001b[1muser:\u001b[0m \u001b[96mwhat color was it?\u001b[0m\n"
     ]
    }
   ],
   "source": [
    "\n",
    "convo = []\n",
    "convo.append({\"role\": \"system\", \"content\": f\"\"\"Answer user questions by \n",
    "    referring to the story. The story: \\n{story2['story']}\"\"\"})\n",
    "# convo.append({\"role\":\"system\", \"content\":\"The story:\\n\" + story2['story']})\\\n",
    "for turn in story2[\"history_turns\"]:\n",
    "    convo.append({\"role\":\"user\", \"content\": turn[\"question\"]})\n",
    "    convo.append({\"role\":\"assistant\", \"content\": turn[\"answer\"]})\n",
    "convo.append({\"role\":\"user\", \"content\": story2[\"target_turn\"][\"question\"]})\n",
    "pprint_convo(convo=convo, hide_internal=False)"
   ]
  },
  {
   "cell_type": "code",
   "execution_count": 134,
   "metadata": {},
   "outputs": [
    {
     "name": "stdout",
     "output_type": "stream",
     "text": [
      "\u001b[31m\u001b[1msystem:\u001b[0m \u001b[31mAnswer user questions by \n",
      "    referring to the story. The story: \n",
      "Angie went to the library with her mother. First she had to turn in the books she was returning at the return desk. They said hello to the man there. He took their books. Then they went into the adult reading room. Angie sat in a brown chair at the table. She made a drawing of her mother. Her mother found a large red book. Then they went to the Mystery section. Angie sat in a blue chair. She drew a picture of her brother. Her mother found the book. It was a green book. Finally it was time to go to the children's room. It was Story Hour. Miss Hudson was there to read to all the children. She read a book about friendship. After the story Angie sat in the red chair and began drawing. They were drawing pictures of friends. Angie drew a picture of her best friend Lilly. Miss Hudson hung the pictures on the wall. Then Angie and her mother picked out 8 books to read at home. They checked the books out and went home.\u001b[0m\n",
      "\n",
      "\u001b[96m\u001b[1muser:\u001b[0m \u001b[96mwhat did she draw?\u001b[0m\n",
      "\u001b[92m\u001b[1massistant:\u001b[0m \u001b[92mher mother\u001b[0m\n",
      "\n",
      "\u001b[96m\u001b[1muser:\u001b[0m \u001b[96mwhat did her mother find?\u001b[0m\n",
      "\u001b[92m\u001b[1massistant:\u001b[0m \u001b[92mthe book.\\\u001b[0m\n",
      "\n",
      "\u001b[96m\u001b[1muser:\u001b[0m \u001b[96mwhat color was it?\u001b[0m\n",
      "\u001b[31m\u001b[1massistant function:\u001b[0m \u001b[31m\n",
      "{'action': 'Ask a Clarification Question',\n",
      " 'analysis': \"The question is ambiguous because it doesn't specify which book \"\n",
      "             'the mother found.',\n",
      " 'clarification_question': 'Which book are you referring to?'}\n",
      "\u001b[0m\n",
      "\u001b[92m\u001b[1massistant:\u001b[0m \u001b[92mWhich book are you referring to?\u001b[0m\n"
     ]
    }
   ],
   "source": [
    "cq_generate_convo_cot(convo=convo, max_internal_turns=10, gpt_model=GPT_MODEL,\n",
    "                      force_fc=True)\n",
    "pprint_convo(convo=convo, hide_internal=False)"
   ]
  },
  {
   "cell_type": "code",
   "execution_count": 135,
   "metadata": {},
   "outputs": [
    {
     "name": "stdout",
     "output_type": "stream",
     "text": [
      "\u001b[31m\u001b[1msystem:\u001b[0m \u001b[31mAnswer user questions by \n",
      "    referring to the story. The story: \n",
      "Angie went to the library with her mother. First she had to turn in the books she was returning at the return desk. They said hello to the man there. He took their books. Then they went into the adult reading room. Angie sat in a brown chair at the table. She made a drawing of her mother. Her mother found a large red book. Then they went to the Mystery section. Angie sat in a blue chair. She drew a picture of her brother. Her mother found the book. It was a green book. Finally it was time to go to the children's room. It was Story Hour. Miss Hudson was there to read to all the children. She read a book about friendship. After the story Angie sat in the red chair and began drawing. They were drawing pictures of friends. Angie drew a picture of her best friend Lilly. Miss Hudson hung the pictures on the wall. Then Angie and her mother picked out 8 books to read at home. They checked the books out and went home.\u001b[0m\n",
      "\n",
      "\u001b[96m\u001b[1muser:\u001b[0m \u001b[96mwhat did she draw?\u001b[0m\n",
      "\u001b[92m\u001b[1massistant:\u001b[0m \u001b[92mher mother\u001b[0m\n",
      "\n",
      "\u001b[96m\u001b[1muser:\u001b[0m \u001b[96mwhat did her mother find?\u001b[0m\n",
      "\u001b[92m\u001b[1massistant:\u001b[0m \u001b[92mthe book.\\\u001b[0m\n",
      "\n",
      "\u001b[96m\u001b[1muser:\u001b[0m \u001b[96mwhat color was it?\u001b[0m\n",
      "\u001b[31m\u001b[1massistant function:\u001b[0m \u001b[31m\n",
      "{'action': 'Ask a Clarification Question',\n",
      " 'analysis': \"The question is ambiguous because it doesn't specify which book \"\n",
      "             'the mother found.',\n",
      " 'clarification_question': 'Which book are you referring to?'}\n",
      "\u001b[0m\n",
      "\u001b[92m\u001b[1massistant:\u001b[0m \u001b[92mWhich book are you referring to?\u001b[0m\n",
      "\n",
      "\u001b[96m\u001b[1muser:\u001b[0m \u001b[96mThe second one\u001b[0m\n",
      "\u001b[31m\u001b[1massistant function:\u001b[0m \u001b[31m\n",
      "{'action': 'Direct answer',\n",
      " 'analysis': 'The question is now clear and can be answered directly.'}\n",
      "\u001b[0m\n",
      "\u001b[92m\u001b[1massistant:\u001b[0m \u001b[92mThe second book that her mother found was a green book.\u001b[0m\n"
     ]
    }
   ],
   "source": [
    "convo.append({\n",
    "    \"role\": \"user\", \n",
    "    \"content\": \"The second one\"\n",
    "    })\n",
    "cq_generate_convo_cot(convo)\n",
    "pprint_convo(convo, hide_internal=False)"
   ]
  },
  {
   "cell_type": "code",
   "execution_count": null,
   "metadata": {},
   "outputs": [],
   "source": []
  },
  {
   "attachments": {},
   "cell_type": "markdown",
   "metadata": {},
   "source": [
    "## Database query"
   ]
  },
  {
   "cell_type": "code",
   "execution_count": 31,
   "metadata": {},
   "outputs": [
    {
     "name": "stdout",
     "output_type": "stream",
     "text": [
      "id, user_name, product_name, product_category, quantity, price, total\n",
      "[(1, 'john', 'apple', 'fruit', 10, 1.0, 10.0),\n",
      " (2, 'john', 'orange', 'fruit', 5, 0.5, 2.5),\n",
      " (3, 'john', 'spaghetti', 'dry', 3, 1.2, 3.6),\n",
      " (4, 'john', 'chicken', 'meat', 3, 1.0, 3.0),\n",
      " (5, 'hannah', 'apple', 'fruit', 5, 1.0, 5.0),\n",
      " (6, 'hannah', 'orange', 'fruit', 10, 0.5, 5.0),\n",
      " (7, 'hannah', 'banana', 'fruit', 5, 0.2, 1.0),\n",
      " (8, 'hannah', 'rice', 'dry', 5, 0.8, 4.0),\n",
      " (9, 'alex', 'pork', 'meat', 2, 3.0, 6.0),\n",
      " (10, 'alex', 'orange', 'fruit', 2, 0.5, 1.0),\n",
      " (11, 'john', 'apple', 'fruit', 10, 1.0, 10.0),\n",
      " (12, 'john', 'orange', 'fruit', 5, 0.5, 2.5),\n",
      " (13, 'john', 'spaghetti', 'dry', 3, 1.2, 3.6),\n",
      " (14, 'john', 'chicken', 'meat', 3, 1.0, 3.0),\n",
      " (15, 'hannah', 'apple', 'fruit', 5, 1.0, 5.0),\n",
      " (16, 'hannah', 'orange', 'fruit', 10, 0.5, 5.0),\n",
      " (17, 'hannah', 'banana', 'fruit', 5, 0.2, 1.0),\n",
      " (18, 'hannah', 'rice', 'dry', 5, 0.8, 4.0),\n",
      " (19, 'alex', 'pork', 'meat', 2, 3.0, 6.0),\n",
      " (20, 'alex', 'orange', 'fruit', 2, 0.5, 1.0)]\n"
     ]
    }
   ],
   "source": [
    "\n",
    "\n",
    "conn = sqlite3.connect('data/sqlite/grocery_txn_2.db')\n",
    "conn.execute(\"\"\"CREATE TABLE IF NOT EXISTS transactions (\n",
    "    id INTEGER PRIMARY KEY AUTOINCREMENT,\n",
    "    user_name TEXT NOT NULL,\n",
    "    product_name TEXT NOT NULL,\n",
    "    product_category TEXT NOT NULL,\n",
    "    quantity INTEGER NOT NULL,\n",
    "    price REAL NOT NULL,\n",
    "    total REAL NOT NULL\n",
    ");\"\"\")\n",
    "rows = [\n",
    "    ('john', 'apple', 'fruit', 10, 1.0, 10.0),\n",
    "    ('john', 'orange', 'fruit', 5, 0.5, 2.5),\n",
    "    ('john', 'spaghetti', 'dry', 3, 1.2, 3.6),\n",
    "    ('john', 'chicken', 'meat', 3, 1, 3),\n",
    "    ('hannah', 'apple', 'fruit', 5, 1.0, 5.0),\n",
    "    ('hannah', 'orange', 'fruit', 10, 0.5, 5.0),\n",
    "    ('hannah', 'banana', 'fruit', 5, 0.2, 1), \n",
    "    ('hannah', 'rice', 'dry', 5, 0.8, 4),\n",
    "    ('alex', 'pork', 'meat', 2, 3, 6),\n",
    "    ('alex', 'orange', 'fruit', 2, 0.5, 1),]\n",
    "conn.executemany(\"\"\"\n",
    "    INSERT INTO transactions (user_name, product_name, product_category, quantity, price, total)\n",
    "    VALUES (?, ?, ?, ?, ?, ?)\"\"\", \n",
    "    rows)\n",
    "conn.commit()\n",
    "print(\"id, user_name, product_name, product_category, quantity, price, total\")\n",
    "pprint(conn.execute(\"SELECT * FROM transactions\").fetchall())\n",
    "conn.execute(\n",
    "    \"SELECT user_name, sum(total) as spending FROM transactions group by 1\"\n",
    "    ).fetchall()\n",
    "\n",
    "database_schema_string = \"\"\"Table: transactions\n",
    "    Columns: id, user_name, product_name, product_category, quantity, price, total\"\"\""
   ]
  },
  {
   "cell_type": "code",
   "execution_count": 32,
   "metadata": {},
   "outputs": [],
   "source": [
    "desc__query_database = {\n",
    "    \"name\": \"query_database\",\n",
    "    \"description\": \"Generate fully-formed SQL query to answer user's questions\",\n",
    "    \"parameters\": {\n",
    "        \"type\": \"object\",\n",
    "        \"properties\": {\n",
    "            \"query\": {\n",
    "                \"type\": \"string\",\n",
    "                \"description\": f\"\"\"The SQL query extracting relevant info to \n",
    "                    the user's question. Use the following schema:\n",
    "                        {database_schema_string}\"\"\",\n",
    "            }\n",
    "        },\n",
    "        \"required\": [\"query\"],\n",
    "    },\n",
    "}\n",
    "\n",
    "def query_database(conn, query):\n",
    "    try:\n",
    "        results = str(conn.execute(query).fetchall())\n",
    "    except Exception as e:\n",
    "        results = f\"Query execution failed with error: {e}\"\n",
    "    return results\n",
    "\n",
    "def execute_function_call(f_call):\n",
    "    if f_call[\"name\"] == \"query_database\":\n",
    "        q = json.loads(f_call[\"arguments\"])[\"query\"]\n",
    "        results = query_database(conn, q)\n",
    "    else:\n",
    "        results = f\"\"\"Error: function {f_call[\"name\"]} does not exist\"\"\"\n",
    "    return results"
   ]
  },
  {
   "cell_type": "code",
   "execution_count": 33,
   "metadata": {},
   "outputs": [],
   "source": [
    "def generate_convo(convo, max_internal_turns=10):\n",
    "    i = 0\n",
    "    while ((i <= max_internal_turns) and not (\n",
    "        convo[-1][\"role\"] == \"assistant\" and not convo[-1].get(\"function_call\")\n",
    "        )):\n",
    "        # Get gpt response\n",
    "        gpt_response = openai.ChatCompletion.create(\n",
    "            model=GPT_MODEL,\n",
    "            messages=convo,\n",
    "            functions=[desc__query_database],\n",
    "        function_call=\"auto\",\n",
    "        )\n",
    "        # Extract the assistant's message and append to the conversation\n",
    "        assistant_message = gpt_response[\"choices\"][0][\"message\"]\n",
    "        convo.append(assistant_message)\n",
    "        # If the model suggested using a function call, get the result\n",
    "        f_call = assistant_message.get(\"function_call\")\n",
    "        if f_call:\n",
    "            results = execute_function_call(f_call)\n",
    "            convo.append({\n",
    "                \"role\": \"function\", \"name\": f_call[\"name\"], \"content\": results\n",
    "                })\n",
    "        i += 1\n",
    "    return convo\n"
   ]
  },
  {
   "cell_type": "code",
   "execution_count": 34,
   "metadata": {},
   "outputs": [],
   "source": [
    "convo = []\n",
    "convo.append({\"role\": \"system\", \"content\": \"\"\"Answer user questions by \n",
    "    understanding the user's request, asking clarification questions, and \n",
    "    generating SQL queries against the Grocery Transaction Database\n",
    "    if additional data is needed.\"\"\"})\n",
    "convo.append({\"role\": \"user\", \"content\": \"Hi, please report the current business situation\"})"
   ]
  },
  {
   "cell_type": "code",
   "execution_count": 35,
   "metadata": {},
   "outputs": [
    {
     "name": "stdout",
     "output_type": "stream",
     "text": [
      "\n",
      "\u001b[96m\u001b[1muser:\u001b[0m \u001b[96mHi, please report the current business situation\u001b[0m\n",
      "\u001b[92m\u001b[1massistant:\u001b[0m \u001b[92mSure, I need to access the Grocery Transaction Database to retrieve the necessary information. Could you please provide the SQL query that I should use to extract the relevant data for reporting the current business situation?\u001b[0m\n"
     ]
    }
   ],
   "source": [
    "generate_convo(convo)\n",
    "pprint_convo(convo, hide_internal=True)"
   ]
  },
  {
   "cell_type": "code",
   "execution_count": 36,
   "metadata": {},
   "outputs": [
    {
     "name": "stdout",
     "output_type": "stream",
     "text": [
      "\u001b[31m\u001b[1msystem:\u001b[0m \u001b[31mAnswer user questions by \n",
      "    understanding the user's request, asking clarification questions, and \n",
      "    generating SQL queries against the Grocery Transaction Database\n",
      "    if additional data is needed.\u001b[0m\n",
      "\n",
      "\u001b[96m\u001b[1muser:\u001b[0m \u001b[96mHi, please report the current business situation\u001b[0m\n",
      "\u001b[92m\u001b[1massistant:\u001b[0m \u001b[92mSure, I need to access the Grocery Transaction Database to retrieve the necessary information. Could you please provide the SQL query that I should use to extract the relevant data for reporting the current business situation?\u001b[0m\n",
      "\n",
      "\u001b[96m\u001b[1muser:\u001b[0m \u001b[96mI want to know what products I should buy order from our suppliers\u001b[0m\n",
      "\u001b[92m\u001b[1massistant:\u001b[0m \u001b[92mNone\u001b[0m\n",
      "\u001b[31m\u001b[1mfunction:\u001b[0m \u001b[31m[('pork', 4), ('chicken', 6), ('spaghetti', 6), ('banana', 10), ('rice', 10), ('apple', 30), ('orange', 34)]\u001b[0m\n",
      "\u001b[92m\u001b[1massistant:\u001b[0m \u001b[92mBased on the current sales data from the Grocery Transaction Database, here are the products that you should consider ordering from your suppliers in ascending order of total quantity sold:\n",
      "\n",
      "1. Pork - 4 units sold\n",
      "2. Chicken - 6 units sold\n",
      "3. Spaghetti - 6 units sold\n",
      "4. Banana - 10 units sold\n",
      "5. Rice - 10 units sold\n",
      "6. Apple - 30 units sold\n",
      "7. Orange - 34 units sold\n",
      "\n",
      "Please note that these recommendations are based on the total quantity sold, so you can prioritize the products accordingly.\u001b[0m\n"
     ]
    }
   ],
   "source": [
    "convo.append({\n",
    "    \"role\": \"user\", \n",
    "    \"content\": \"I want to know what products I should buy order from our suppliers\"\n",
    "    })\n",
    "generate_convo(convo)\n",
    "pprint_convo(convo, hide_internal=False)\n"
   ]
  },
  {
   "cell_type": "code",
   "execution_count": null,
   "metadata": {},
   "outputs": [],
   "source": []
  },
  {
   "cell_type": "code",
   "execution_count": null,
   "metadata": {},
   "outputs": [],
   "source": []
  },
  {
   "cell_type": "code",
   "execution_count": null,
   "metadata": {},
   "outputs": [],
   "source": []
  },
  {
   "cell_type": "code",
   "execution_count": null,
   "metadata": {},
   "outputs": [],
   "source": []
  },
  {
   "cell_type": "code",
   "execution_count": null,
   "metadata": {},
   "outputs": [],
   "source": []
  }
 ],
 "metadata": {
  "kernelspec": {
   "display_name": "trans",
   "language": "python",
   "name": "python3"
  },
  "language_info": {
   "codemirror_mode": {
    "name": "ipython",
    "version": 3
   },
   "file_extension": ".py",
   "mimetype": "text/x-python",
   "name": "python",
   "nbconvert_exporter": "python",
   "pygments_lexer": "ipython3",
   "version": "3.9.15"
  },
  "orig_nbformat": 4
 },
 "nbformat": 4,
 "nbformat_minor": 2
}
